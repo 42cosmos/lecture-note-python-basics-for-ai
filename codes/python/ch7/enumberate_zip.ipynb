{
 "cells": [
  {
   "cell_type": "code",
   "execution_count": 4,
   "metadata": {},
   "outputs": [
    {
     "name": "stdout",
     "output_type": "stream",
     "text": [
      "0\tA\n",
      "1\tB\n",
      "2\tC\n"
     ]
    }
   ],
   "source": [
    "for i, v in enumerate(\"ABC\"):\n",
    "    print (\"{0}\\t{1}\".format(i, v))"
   ]
  },
  {
   "cell_type": "code",
   "execution_count": 9,
   "metadata": {},
   "outputs": [
    {
     "data": {
      "text/plain": [
       "{0: 'A', 1: 'B', 2: 'C', 3: 'D'}"
      ]
     },
     "execution_count": 9,
     "metadata": {},
     "output_type": "execute_result"
    }
   ],
   "source": [
    "my_str = \"ABCD\"\n",
    "{i : v for i , v in enumerate(my_str)}"
   ]
  },
  {
   "cell_type": "code",
   "execution_count": 16,
   "metadata": {},
   "outputs": [
    {
     "data": {
      "text/plain": [
       "{0: 'samsung',\n",
       " 1: 'group',\n",
       " 2: 'is',\n",
       " 3: 'a',\n",
       " 4: 'south',\n",
       " 5: 'korean',\n",
       " 6: 'multinational',\n",
       " 7: 'conglomerate',\n",
       " 8: 'headquartered',\n",
       " 9: 'in',\n",
       " 10: 'samsung',\n",
       " 11: 'town,',\n",
       " 12: 'seoul.'}"
      ]
     },
     "execution_count": 16,
     "metadata": {},
     "output_type": "execute_result"
    }
   ],
   "source": [
    "text = \"Samsung Group is a South Korean multinational conglomerate headquartered in Samsung Town, Seoul.\"\n",
    "{i : v.lower() for i, v in enumerate(text.split())}"
   ]
  },
  {
   "cell_type": "markdown",
   "metadata": {},
   "source": [
    "## Zip"
   ]
  },
  {
   "cell_type": "code",
   "execution_count": 22,
   "metadata": {},
   "outputs": [
    {
     "data": {
      "text/plain": [
       "[['a1', 'b1'], ['a2', 'b2'], ['a3', 'b3']]"
      ]
     },
     "execution_count": 22,
     "metadata": {},
     "output_type": "execute_result"
    }
   ],
   "source": [
    "alist = [\"a1\", \"a2\", \"a3\"]\n",
    "blist = [\"b1\", \"b2\", \"b3\"]\n",
    "\n",
    "[ [a,b] for a, b in zip(alist, blist)]\n",
    "#     print(a, b)"
   ]
  },
  {
   "cell_type": "code",
   "execution_count": 27,
   "metadata": {},
   "outputs": [
    {
     "data": {
      "text/plain": [
       "[93.33333333333333, 86.66666666666667, 73.33333333333333]"
      ]
     },
     "execution_count": 27,
     "metadata": {},
     "output_type": "execute_result"
    }
   ],
   "source": [
    "math = (100, 90, 80)\n",
    "kor = (90, 90, 70)\n",
    "eng = (90, 80, 70)\n",
    "\n",
    "[sum(value) / 3 for value in zip(math, kor, eng)]\n"
   ]
  },
  {
   "cell_type": "markdown",
   "metadata": {},
   "source": [
    "## enumerate & zip"
   ]
  },
  {
   "cell_type": "code",
   "execution_count": 29,
   "metadata": {},
   "outputs": [
    {
     "name": "stdout",
     "output_type": "stream",
     "text": [
      "0 ('a1', 'b1')\n",
      "1 ('a2', 'b2')\n",
      "2 ('a3', 'b3')\n"
     ]
    }
   ],
   "source": [
    "alist = [\"a1\", \"a2\", \"a3\"]\n",
    "blist = [\"b1\", \"b2\", \"b3\"]\n",
    "\n",
    "for i, values in enumerate(zip(alist,blist)):\n",
    "    print(i , values)\n"
   ]
  },
  {
   "cell_type": "code",
   "execution_count": null,
   "metadata": {},
   "outputs": [],
   "source": []
  }
 ],
 "metadata": {
  "kernelspec": {
   "display_name": "Python 3",
   "language": "python",
   "name": "python3"
  },
  "language_info": {
   "codemirror_mode": {
    "name": "ipython",
    "version": 3
   },
   "file_extension": ".py",
   "mimetype": "text/x-python",
   "name": "python",
   "nbconvert_exporter": "python",
   "pygments_lexer": "ipython3",
   "version": "3.7.4"
  }
 },
 "nbformat": 4,
 "nbformat_minor": 2
}
