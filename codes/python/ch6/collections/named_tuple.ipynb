{
 "cells": [
  {
   "cell_type": "code",
   "execution_count": 8,
   "metadata": {},
   "outputs": [],
   "source": [
    "from collections import namedtuple\n",
    "\n",
    "# Basic example\n",
    "Point = namedtuple('Point', ['x', 'y'])"
   ]
  },
  {
   "cell_type": "code",
   "execution_count": 10,
   "metadata": {},
   "outputs": [
    {
     "data": {
      "text/plain": [
       "(11, 22)"
      ]
     },
     "execution_count": 10,
     "metadata": {},
     "output_type": "execute_result"
    }
   ],
   "source": [
    "p = Point(11, y=22)\n",
    "p[0], p[1]"
   ]
  },
  {
   "cell_type": "code",
   "execution_count": 12,
   "metadata": {},
   "outputs": [
    {
     "name": "stdout",
     "output_type": "stream",
     "text": [
      "11 22\n",
      "33\n",
      "Point(x=11, y=22)\n"
     ]
    }
   ],
   "source": [
    "x, y = p\n",
    "print(x, y)\n",
    "print(p.x + p.y)\n",
    "print(Point(x=11, y=22))"
   ]
  },
  {
   "cell_type": "code",
   "execution_count": 15,
   "metadata": {},
   "outputs": [
    {
     "name": "stdout",
     "output_type": "stream",
     "text": [
      "[['1555551', '', 'lrice', '', 'Lonnie', 'Rice', 'Lonnie Rice', 'Rice, Lonnie', 'Lonnie Rice', 'lrice@institution-name.edu', 'active'], ['1555552', '', 'jthompson', '', 'Jan', 'Thompson', 'Jan Thompson', 'Thompson, Jan', 'Jan Thompson', 'jthompson@institution-name.edu', 'active'], ['1555553', '', 'rreeves', '', 'Roger', 'Reeves', 'Roger Reeves', 'Reeves, Roger', 'Roger Reeves', 'rreeves@institution-name.edu', 'active'], ['1555554', '', 'wgriffin', '', 'Warren', 'Griffin', 'Warren Griffin', 'Griffin, Warren', 'Warren Griffin', 'wgriffin@institution-name.edu', 'active'], ['1555555', '', 'tsanders', '', 'Tammy', 'Sanders', 'Tammy Sanders', 'Sanders, Tammy', 'Tammy Sanders', 'tsanders@institution-name.edu', 'active'], ['1555556', '', 'cprice', '', 'Carrie', 'Price', 'Carrie Price', 'Price, Carrie', 'Carrie Price', 'cprice@institution-name.edu', 'active'], ['1555557', '', 'abowers', '', 'Alicia', 'Bowers', 'Alicia Bowers', 'Bowers, Alicia', 'Alicia Bowers', 'abowers@institution-name.edu', 'active'], ['1555558', '', 'eramsey', '', 'Essie', 'Ramsey', 'Essie Ramsey', 'Ramsey, Essie', 'Essie Ramsey', 'eramsey@institution-name.edu', 'active'], ['1555559', '', 'lwillis', '', 'Lila', 'Willis', 'Lila Willis', 'Willis, Lila', 'Lila Willis', 'lwillis@institution-name.edu', 'active'], ['1555560', '', 'csoto', '', 'Corey', 'Soto', 'Corey Soto', 'Soto, Corey', 'Corey Soto', 'csoto@institution-name.edu', 'active']]\n"
     ]
    }
   ],
   "source": [
    "from collections import namedtuple\n",
    "import csv\n",
    "f = open(\"users.csv\", \"r\")\n",
    "next(f)\n",
    "reader = csv.reader(f)\n",
    "student_list = []\n",
    "for row in reader:\n",
    "    student_list.append(row)\n",
    "print(student_list)"
   ]
  },
  {
   "cell_type": "code",
   "execution_count": 16,
   "metadata": {},
   "outputs": [
    {
     "data": {
      "text/plain": [
       "__main__.Student"
      ]
     },
     "execution_count": 16,
     "metadata": {},
     "output_type": "execute_result"
    }
   ],
   "source": [
    "columns = [\"user_id\", \"integration_id\", \"login_id\", \"password\", \"first_name\",\n",
    "            \"last_name\", \"full_name\", \"sortable_name\", \"short_name\",\n",
    "            \"email\", \"status\"]\n",
    "Student = namedtuple('Student', columns)\n",
    "Student"
   ]
  },
  {
   "cell_type": "code",
   "execution_count": 20,
   "metadata": {},
   "outputs": [
    {
     "data": {
      "text/plain": [
       "Student(user_id='1555560', integration_id='', login_id='csoto', password='', first_name='Corey', last_name='Soto', full_name='Corey Soto', sortable_name='Soto, Corey', short_name='Corey Soto', email='csoto@institution-name.edu', status='active')"
      ]
     },
     "execution_count": 20,
     "metadata": {},
     "output_type": "execute_result"
    }
   ],
   "source": [
    "student_namedtupe_list = []\n",
    "for row in student_list:\n",
    "#     print(row )\n",
    "    student = Student(*row)\n",
    "#     student_namedtupe_list.append(student)\n",
    "# print(student_namedtupe_list[0])\n",
    "# print(student_namedtupe_list[0].full_name)\n",
    "\n",
    "student"
   ]
  },
  {
   "cell_type": "code",
   "execution_count": null,
   "metadata": {},
   "outputs": [],
   "source": [
    "]"
   ]
  }
 ],
 "metadata": {
  "kernelspec": {
   "display_name": "Python 3",
   "language": "python",
   "name": "python3"
  },
  "language_info": {
   "codemirror_mode": {
    "name": "ipython",
    "version": 3
   },
   "file_extension": ".py",
   "mimetype": "text/x-python",
   "name": "python",
   "nbconvert_exporter": "python",
   "pygments_lexer": "ipython3",
   "version": "3.7.4"
  }
 },
 "nbformat": 4,
 "nbformat_minor": 2
}
